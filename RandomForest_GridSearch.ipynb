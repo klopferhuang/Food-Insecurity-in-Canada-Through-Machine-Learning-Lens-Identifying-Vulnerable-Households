{
 "cells": [
  {
   "cell_type": "code",
   "execution_count": 1,
   "id": "854585c2-246b-4b99-a220-107e228d68f7",
   "metadata": {},
   "outputs": [],
   "source": [
    "import numpy as np\n",
    "import pandas as pd\n",
    "from sklearn.preprocessing import StandardScaler, OneHotEncoder\n",
    "from sklearn.compose import ColumnTransformer\n",
    "from sklearn.model_selection import train_test_split\n",
    "from sklearn.ensemble import RandomForestClassifier\n",
    "from sklearn.metrics import classification_report\n",
    "from sklearn.preprocessing import LabelEncoder\n",
    "from imblearn.over_sampling import SMOTENC\n",
    "# Read data\n",
    "new_dataset_efmjieh1 = pd.read_csv(\"imputedfi.csv\")\n",
    "# Specify the variables to scale\n",
    "numerical_variables = [\"efalimo\", \"efalip\", \"efcapgn\", \"efccar\", \"efchtxb\", \n",
    "\"efcpqpp\", \"efearng\", \"efgi\", \"efgstxc\", \"efgtr\", \"efinva\", \"efoasgi\", \"efogovtr\", \"efothinc\", \"efpen\", \"efpenrec\", \"efphpr\", \"efpvtxc\", \"efrppc\", \"efrspwi\", \"efsapis\", \"efsemp\", \n",
    "\"efsize\", \"efuiben\", \"efwkrcp\", \"efagofmp\", \"efagyfmp\", \"hlev2g\"]\n",
    "\n",
    "# Specify categorical variables\n",
    "categorical_variables = [\"eftyp\", \"prov\", \"dwltyp\", \"dwtenr\", \"marstp\", \"efmjsi\",\"sex\",\"immst\",\"uszgap\"]\n",
    "new_dataset_efmjieh1.loc[new_dataset_efmjieh1['fschhldm'] >= 1, 'fschhldm'] = 1"
   ]
  },
  {
   "cell_type": "code",
   "execution_count": 2,
   "id": "de9b11a7-1678-4b20-be0b-89c695371586",
   "metadata": {},
   "outputs": [],
   "source": [
    "from sklearn.model_selection import train_test_split, GridSearchCV\n",
    "from sklearn.preprocessing import StandardScaler, OneHotEncoder, LabelEncoder\n",
    "from sklearn.compose import ColumnTransformer\n",
    "from imblearn.over_sampling import SMOTENC\n",
    "from sklearn.ensemble import RandomForestClassifier\n",
    "from sklearn.metrics import classification_report, confusion_matrix\n",
    "from sklearn.metrics import ConfusionMatrixDisplay\n",
    "import matplotlib.pyplot as plt\n",
    "import numpy as np\n",
    "\n",
    "# Create the target and features\n",
    "y = new_dataset_efmjieh1['fschhldm']\n",
    "X = new_dataset_efmjieh1.drop(columns=['fschhldm'])\n",
    "\n",
    "# Define pipeline for scaling numerical features and one-hot encoding categorical features\n",
    "numeric_transformer = StandardScaler()\n",
    "categorical_transformer = OneHotEncoder(handle_unknown='ignore')\n",
    "\n",
    "# Preprocessor\n",
    "preprocessor = ColumnTransformer(\n",
    "    transformers=[\n",
    "        ('num', numeric_transformer, numerical_variables),\n",
    "        ('cat', categorical_transformer, categorical_variables)\n",
    "    ]\n",
    ")\n",
    "\n",
    "# Apply preprocessing\n",
    "X_preprocessed = preprocessor.fit_transform(X)\n",
    "\n",
    "# Create a mask for SMOTENC after one-hot encoding\n",
    "# True for categorical features and False for numerical features\n",
    "categorical_features_mask = [col in categorical_variables for col in X.columns]\n",
    "\n",
    "# Apply SMOTENC\n",
    "smote_nc = SMOTENC(categorical_features=categorical_features_mask, random_state=42, sampling_strategy='minority')\n",
    "X_resampled, y_resampled = smote_nc.fit_resample(X_preprocessed, y)\n",
    "\n",
    "# Encode the labels\n",
    "le = LabelEncoder()\n",
    "y_resampled_ready = le.fit_transform(y_resampled)\n",
    "\n",
    "# Split the resampled data into training and testing sets\n",
    "X_train, X_test, y_train_ready, y_test_ready = train_test_split(X_resampled, y_resampled_ready, random_state=42, stratify=y_resampled_ready)\n",
    "\n",
    "# Number of trees in random forest\n",
    "n_estimators = [int(x) for x in np.linspace(start = 200, stop = 2000, num = 10)]\n",
    "# Maximum number of levels in tree\n",
    "max_depth = [int(x) for x in np.linspace(10, 110, num = 11)]\n",
    "# Minimum number of samples required to split a node\n",
    "min_samples_split = [2, 5, 10]\n",
    "# Minimum number of samples required at each leaf node\n",
    "min_samples_leaf = [1, 2, 4]\n",
    "# Create the random grid\n",
    "random_grid = {'n_estimators': n_estimators,\n",
    "               'max_depth': max_depth,\n",
    "               'min_samples_split': min_samples_split,\n",
    "               'min_samples_leaf': min_samples_leaf}\n",
    "\n",
    "# Use the random grid to search for best hyperparameters\n",
    "rf = RandomForestClassifier()\n",
    "grid_search = GridSearchCV(estimator = rf, param_grid = random_grid, cv = 3, n_jobs = -1)\n"
   ]
  },
  {
   "cell_type": "code",
   "execution_count": 3,
   "id": "6a2d51f0-568f-4b92-86ad-26c7f83ee1a5",
   "metadata": {},
   "outputs": [
    {
     "name": "stdout",
     "output_type": "stream",
     "text": [
      "Fitting 3 folds for each of 100 candidates, totalling 300 fits\n",
      "[CV] END max_depth=40, min_samples_leaf=4, min_samples_split=2, n_estimators=400; total time= 2.0min\n",
      "[CV] END max_depth=60, min_samples_leaf=2, min_samples_split=10, n_estimators=400; total time= 2.1min\n",
      "[CV] END max_depth=10, min_samples_leaf=4, min_samples_split=10, n_estimators=1800; total time= 6.5min\n",
      "[CV] END max_depth=40, min_samples_leaf=1, min_samples_split=5, n_estimators=200; total time= 2.3min\n",
      "[CV] END max_depth=10, min_samples_leaf=2, min_samples_split=10, n_estimators=2000; total time=168.0min\n",
      "[CV] END max_depth=60, min_samples_leaf=2, min_samples_split=10, n_estimators=1400; total time=128.3min\n",
      "[CV] END max_depth=100, min_samples_leaf=2, min_samples_split=5, n_estimators=1600; total time=18.1min\n",
      "[CV] END max_depth=100, min_samples_leaf=2, min_samples_split=10, n_estimators=800; total time= 2.0min\n",
      "[CV] END max_depth=10, min_samples_leaf=4, min_samples_split=5, n_estimators=1400; total time= 2.7min\n",
      "[CV] END max_depth=60, min_samples_leaf=2, min_samples_split=5, n_estimators=2000; total time= 7.9min\n",
      "[CV] END max_depth=100, min_samples_leaf=4, min_samples_split=2, n_estimators=800; total time= 2.2min\n",
      "[CV] END max_depth=60, min_samples_leaf=4, min_samples_split=2, n_estimators=1800; total time= 5.0min\n",
      "[CV] END max_depth=100, min_samples_leaf=2, min_samples_split=10, n_estimators=1600; total time= 4.5min\n",
      "[CV] END max_depth=80, min_samples_leaf=2, min_samples_split=5, n_estimators=800; total time= 2.8min\n",
      "[CV] END max_depth=80, min_samples_leaf=2, min_samples_split=10, n_estimators=2000; total time= 6.4min\n",
      "[CV] END max_depth=80, min_samples_leaf=1, min_samples_split=10, n_estimators=1200; total time= 3.9min\n",
      "[CV] END max_depth=10, min_samples_leaf=1, min_samples_split=10, n_estimators=800; total time= 1.6min\n",
      "[CV] END max_depth=80, min_samples_leaf=1, min_samples_split=5, n_estimators=800; total time= 2.5min\n",
      "[CV] END max_depth=40, min_samples_leaf=2, min_samples_split=5, n_estimators=1800; total time= 5.4min\n",
      "[CV] END max_depth=110, min_samples_leaf=1, min_samples_split=10, n_estimators=1200; total time= 4.0min\n",
      "[CV] END max_depth=50, min_samples_leaf=4, min_samples_split=10, n_estimators=2000; total time= 6.0min\n",
      "[CV] END max_depth=70, min_samples_leaf=2, min_samples_split=10, n_estimators=400; total time= 1.3min\n",
      "[CV] END max_depth=70, min_samples_leaf=2, min_samples_split=10, n_estimators=400; total time= 1.4min\n",
      "[CV] END max_depth=30, min_samples_leaf=4, min_samples_split=10, n_estimators=1200; total time= 4.0min\n",
      "[CV] END max_depth=40, min_samples_leaf=1, min_samples_split=5, n_estimators=400; total time= 1.2min\n",
      "[CV] END max_depth=100, min_samples_leaf=2, min_samples_split=10, n_estimators=2000; total time= 6.1min\n",
      "[CV] END max_depth=10, min_samples_leaf=4, min_samples_split=2, n_estimators=1400; total time= 2.8min\n",
      "[CV] END max_depth=50, min_samples_leaf=4, min_samples_split=2, n_estimators=800; total time= 2.3min\n",
      "[CV] END max_depth=30, min_samples_leaf=4, min_samples_split=10, n_estimators=400; total time= 1.1min\n",
      "[CV] END max_depth=90, min_samples_leaf=2, min_samples_split=5, n_estimators=1000; total time= 3.1min\n",
      "[CV] END max_depth=50, min_samples_leaf=4, min_samples_split=2, n_estimators=1000; total time= 2.6min\n",
      "[CV] END max_depth=70, min_samples_leaf=2, min_samples_split=10, n_estimators=1400; total time= 3.7min\n",
      "[CV] END max_depth=50, min_samples_leaf=1, min_samples_split=2, n_estimators=800; total time= 2.6min\n",
      "[CV] END max_depth=30, min_samples_leaf=4, min_samples_split=5, n_estimators=1000; total time= 2.9min\n",
      "[CV] END max_depth=80, min_samples_leaf=2, min_samples_split=10, n_estimators=1000; total time= 2.9min\n",
      "[CV] END max_depth=110, min_samples_leaf=4, min_samples_split=5, n_estimators=1200; total time= 3.3min\n",
      "[CV] END max_depth=80, min_samples_leaf=1, min_samples_split=5, n_estimators=1000; total time= 3.0min\n",
      "[CV] END max_depth=30, min_samples_leaf=2, min_samples_split=2, n_estimators=800; total time= 4.3min\n",
      "[CV] END max_depth=60, min_samples_leaf=4, min_samples_split=10, n_estimators=1200; total time= 5.9min\n",
      "[CV] END max_depth=40, min_samples_leaf=1, min_samples_split=5, n_estimators=200; total time= 2.2min\n",
      "[CV] END max_depth=20, min_samples_leaf=1, min_samples_split=5, n_estimators=1600; total time=170.5min\n",
      "[CV] END max_depth=40, min_samples_leaf=4, min_samples_split=10, n_estimators=2000; total time=141.0min\n",
      "[CV] END max_depth=90, min_samples_leaf=1, min_samples_split=10, n_estimators=2000; total time= 6.0min\n",
      "[CV] END max_depth=90, min_samples_leaf=2, min_samples_split=5, n_estimators=1600; total time= 6.7min\n",
      "[CV] END max_depth=80, min_samples_leaf=4, min_samples_split=10, n_estimators=200; total time=  32.4s\n",
      "[CV] END max_depth=80, min_samples_leaf=4, min_samples_split=10, n_estimators=200; total time=  33.0s\n",
      "[CV] END max_depth=60, min_samples_leaf=2, min_samples_split=10, n_estimators=200; total time=  35.3s\n",
      "[CV] END max_depth=90, min_samples_leaf=4, min_samples_split=2, n_estimators=2000; total time= 5.6min\n",
      "[CV] END max_depth=60, min_samples_leaf=1, min_samples_split=2, n_estimators=1600; total time= 4.8min\n",
      "[CV] END max_depth=90, min_samples_leaf=1, min_samples_split=2, n_estimators=1800; total time= 6.0min\n",
      "[CV] END max_depth=80, min_samples_leaf=2, min_samples_split=10, n_estimators=2000; total time= 6.4min\n",
      "[CV] END max_depth=80, min_samples_leaf=1, min_samples_split=10, n_estimators=1200; total time= 3.9min\n",
      "[CV] END max_depth=10, min_samples_leaf=2, min_samples_split=2, n_estimators=200; total time=  24.0s\n",
      "[CV] END max_depth=90, min_samples_leaf=1, min_samples_split=5, n_estimators=200; total time=  33.7s\n",
      "[CV] END max_depth=20, min_samples_leaf=4, min_samples_split=10, n_estimators=1000; total time= 2.7min\n",
      "[CV] END max_depth=40, min_samples_leaf=2, min_samples_split=5, n_estimators=1800; total time= 5.4min\n",
      "[CV] END max_depth=110, min_samples_leaf=1, min_samples_split=10, n_estimators=1200; total time= 4.0min\n",
      "[CV] END max_depth=110, min_samples_leaf=2, min_samples_split=2, n_estimators=1600; total time= 5.1min\n",
      "[CV] END max_depth=50, min_samples_leaf=1, min_samples_split=2, n_estimators=600; total time= 2.1min\n",
      "[CV] END max_depth=70, min_samples_leaf=2, min_samples_split=10, n_estimators=400; total time= 1.4min\n",
      "[CV] END max_depth=30, min_samples_leaf=4, min_samples_split=10, n_estimators=1200; total time= 4.0min\n",
      "[CV] END max_depth=40, min_samples_leaf=1, min_samples_split=5, n_estimators=400; total time= 1.2min\n",
      "[CV] END max_depth=100, min_samples_leaf=2, min_samples_split=10, n_estimators=2000; total time= 6.0min\n",
      "[CV] END max_depth=10, min_samples_leaf=4, min_samples_split=2, n_estimators=1400; total time= 2.8min\n",
      "[CV] END max_depth=50, min_samples_leaf=4, min_samples_split=2, n_estimators=800; total time= 2.3min\n",
      "[CV] END max_depth=40, min_samples_leaf=4, min_samples_split=10, n_estimators=600; total time= 1.6min\n",
      "[CV] END max_depth=30, min_samples_leaf=4, min_samples_split=2, n_estimators=1000; total time= 3.0min\n",
      "[CV] END max_depth=50, min_samples_leaf=4, min_samples_split=2, n_estimators=1000; total time= 2.6min\n",
      "[CV] END max_depth=70, min_samples_leaf=2, min_samples_split=10, n_estimators=1400; total time= 3.7min\n",
      "[CV] END max_depth=60, min_samples_leaf=4, min_samples_split=10, n_estimators=1800; total time= 5.2min\n",
      "[CV] END max_depth=80, min_samples_leaf=2, min_samples_split=10, n_estimators=1000; total time= 2.9min\n",
      "[CV] END max_depth=70, min_samples_leaf=1, min_samples_split=2, n_estimators=1200; total time= 3.7min\n",
      "[CV] END max_depth=80, min_samples_leaf=1, min_samples_split=5, n_estimators=1000; total time= 2.9min\n",
      "Best parameters: {'n_estimators': 1600, 'min_samples_split': 2, 'min_samples_leaf': 1, 'max_depth': 60}\n"
     ]
    }
   ],
   "source": [
    "from sklearn.model_selection import RandomizedSearchCV\n",
    "\n",
    "# Define the parameter grid\n",
    "random_grid = {'n_estimators': n_estimators,\n",
    "               'max_depth': max_depth,\n",
    "               'min_samples_split': min_samples_split,\n",
    "               'min_samples_leaf': min_samples_leaf}\n",
    "\n",
    "rf = RandomForestClassifier()\n",
    "\n",
    "# Random search of parameters using 3 fold cross validation\n",
    "random_search = RandomizedSearchCV(estimator = rf, param_distributions = random_grid, \n",
    "                                   n_iter = 100, cv = 3, verbose=2, random_state=42, n_jobs = -1)\n",
    "\n",
    "# Fit the model\n",
    "random_search.fit(X_train, y_train_ready)\n",
    "\n",
    "# Get the best parameters\n",
    "best_params = random_search.best_params_\n",
    "print(f\"Best parameters: {best_params}\")\n"
   ]
  },
  {
   "cell_type": "code",
   "execution_count": 4,
   "id": "8a29f138-7b62-48fa-9e1e-735a37a45a8f",
   "metadata": {},
   "outputs": [
    {
     "name": "stdout",
     "output_type": "stream",
     "text": [
      "              precision    recall  f1-score   support\n",
      "\n",
      "           0       1.00      1.00      1.00     26545\n",
      "           1       1.00      1.00      1.00     26546\n",
      "\n",
      "    accuracy                           1.00     53091\n",
      "   macro avg       1.00      1.00      1.00     53091\n",
      "weighted avg       1.00      1.00      1.00     53091\n",
      "\n",
      "              precision    recall  f1-score   support\n",
      "\n",
      "           0       0.90      0.94      0.92      8849\n",
      "           1       0.94      0.89      0.92      8848\n",
      "\n",
      "    accuracy                           0.92     17697\n",
      "   macro avg       0.92      0.92      0.92     17697\n",
      "weighted avg       0.92      0.92      0.92     17697\n",
      "\n"
     ]
    },
    {
     "data": {
      "image/png": "[encoded data removed]",
      "text/plain": [
       "<Figure size 640x480 with 2 Axes>"
      ]
     },
     "metadata": {},
     "output_type": "display_data"
    }
   ],
   "source": [
    "# Define and fit the classifier with the best parameters\n",
    "clf_r = RandomForestClassifier(n_estimators=best_params['n_estimators'], \n",
    "                             max_depth=best_params['max_depth'], \n",
    "                             min_samples_split=best_params['min_samples_split'],\n",
    "                             min_samples_leaf=best_params['min_samples_leaf'], \n",
    "                             random_state=42, \n",
    "                             n_jobs=-1)\n",
    "clf_r.fit(X_train, y_train_ready)\n",
    "\n",
    "# Make predictions\n",
    "y_hat_train = clf_r.predict(X_train)\n",
    "y_hat_test = clf_r.predict(X_test)\n",
    "\n",
    "# Print classification reports\n",
    "print(classification_report(y_train_ready, y_hat_train))\n",
    "print(classification_report(y_test_ready, y_hat_test))\n",
    "\n",
    "# Plot confusion matrix\n",
    "cm = confusion_matrix(y_test_ready, y_hat_test)\n",
    "disp = ConfusionMatrixDisplay(confusion_matrix=cm)\n",
    "disp.plot() \n",
    "plt.show()\n"
   ]
  },
  {
   "cell_type": "code",
   "execution_count": 5,
   "id": "c6273a6d-a4bc-46ed-9a0d-85fcc5318a6d",
   "metadata": {},
   "outputs": [
    {
     "name": "stdout",
     "output_type": "stream",
     "text": [
      "Training Accuracy: 100.00%\n",
      "Test Accuracy: 91.74%\n",
      "Training ROC AUC: 1.00\n",
      "Test ROC AUC: 0.97\n"
     ]
    }
   ],
   "source": [
    "from sklearn.metrics import accuracy_score, roc_auc_score\n",
    "\n",
    "# Compute training and test accuracy\n",
    "train_acc = accuracy_score(y_train_ready, y_hat_train)\n",
    "test_acc = accuracy_score(y_test_ready, y_hat_test)\n",
    "\n",
    "print(\"Training Accuracy: {:.2f}%\".format(train_acc * 100))\n",
    "print(\"Test Accuracy: {:.2f}%\".format(test_acc * 100))\n",
    "\n",
    "# Compute probabilities\n",
    "y_train_proba = clf_r.predict_proba(X_train)[:, 1]\n",
    "y_test_proba = clf_r.predict_proba(X_test)[:, 1]\n",
    "\n",
    "# Compute ROC AUC\n",
    "roc_auc_train = roc_auc_score(y_train_ready, y_train_proba)\n",
    "roc_auc_test = roc_auc_score(y_test_ready, y_test_proba)\n",
    "\n",
    "print(\"Training ROC AUC: {:.2f}\".format(roc_auc_train))\n",
    "print(\"Test ROC AUC: {:.2f}\".format(roc_auc_test))\n"
   ]
  },
  {
   "cell_type": "code",
   "execution_count": 6,
   "id": "034c77da-8078-4cc5-a832-fb6819909c42",
   "metadata": {},
   "outputs": [
    {
     "data": {
      "text/plain": [
       "['clf_best_params.pkl']"
      ]
     },
     "execution_count": 6,
     "metadata": {},
     "output_type": "execute_result"
    }
   ],
   "source": [
    "# Save all the models and transformers\n",
    "import joblib\n",
    "\n",
    "# Save preprocessor\n",
    "joblib.dump(preprocessor, 'preprocessor.pkl')\n",
    "\n",
    "# Save SMOTENC\n",
    "joblib.dump(smote_nc, 'smote_nc.pkl')\n",
    "\n",
    "# Save label encoder\n",
    "joblib.dump(le, 'le.pkl')\n",
    "\n",
    "# Save RandomSearchCV\n",
    "joblib.dump(random_search, 'random_search.pkl')\n",
    "\n",
    "# Save RandomForest model with best params\n",
    "clf_best_params = random_search.best_estimator_\n",
    "joblib.dump(clf_best_params, 'clf_best_params.pkl')\n"
   ]
  },
  {
   "cell_type": "code",
   "execution_count": 7,
   "id": "044b9c23-84c8-4e95-b335-f7ecd9953f48",
   "metadata": {},
   "outputs": [
    {
     "data": {
      "text/plain": [
       "['best_params.pkl']"
      ]
     },
     "execution_count": 7,
     "metadata": {},
     "output_type": "execute_result"
    }
   ],
   "source": [
    "joblib.dump(best_params, 'best_params.pkl')"
   ]
  },
  {
   "cell_type": "code",
   "execution_count": null,
   "id": "9806f973-1f11-4776-89d9-57faec6b2fbe",
   "metadata": {},
   "outputs": [],
   "source": []
  }
 ],
 "metadata": {
  "kernelspec": {
   "display_name": "Python 3 (ipykernel)",
   "language": "python",
   "name": "python3"
  },
  "language_info": {
   "codemirror_mode": {
    "name": "ipython",
    "version": 3
   },
   "file_extension": ".py",
   "mimetype": "text/x-python",
   "name": "python",
   "nbconvert_exporter": "python",
   "pygments_lexer": "ipython3",
   "version": "3.10.9"
  }
 },
 "nbformat": 4,
 "nbformat_minor": 5
}

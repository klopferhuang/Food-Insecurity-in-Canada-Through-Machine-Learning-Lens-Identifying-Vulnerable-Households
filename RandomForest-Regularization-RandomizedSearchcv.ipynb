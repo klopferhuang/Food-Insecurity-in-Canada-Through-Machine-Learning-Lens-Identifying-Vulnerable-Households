{
 "cells": [
  {
   "cell_type": "markdown",
   "id": "fde75154",
   "metadata": {
    "execution": {
     "iopub.execute_input": "2024-06-29T20:35:06.578639Z",
     "iopub.status.busy": "2024-06-29T20:35:06.577876Z",
     "iopub.status.idle": "2024-06-29T20:38:20.873726Z",
     "shell.execute_reply": "2024-06-29T20:38:20.872928Z",
     "shell.execute_reply.started": "2024-06-29T20:35:06.578598Z"
    },
    "papermill": {
     "duration": 0.00445,
     "end_time": "2024-06-29T23:44:18.364204",
     "exception": false,
     "start_time": "2024-06-29T23:44:18.359754",
     "status": "completed"
    },
    "tags": []
   },
   "source": [
    "## Hyperparameter Tuning and Regularization Strategy\n",
    "\n",
    "### Overview\n",
    "\n",
    "We applied regularization to prevent overfitting and to enhance the generalizability of the selected top-performing model. Our strategy involved a two-step hyperparameter tuning approach, using both `RandomizedSearchCV` and `GridSearchCV`. This combined approach allows for a comprehensive and efficient search for the optimal hyperparameters.\n",
    "\n",
    "### Why Use Both Methods?\n",
    "\n",
    "#### 1. Broad Exploration with RandomizedSearchCV\n",
    "\n",
    "- **Coverage of Large Hyperparameter Space:** `RandomizedSearchCV` samples a wide range of hyperparameter combinations randomly. This allows for the exploration of a broad search space without the computational expense of evaluating all possible combinations.\n",
    "- **Efficiency in Large Search Spaces:** It is particularly useful when there are many hyperparameters and possible values. `RandomizedSearchCV` can provide good parameter values with fewer iterations compared to an exhaustive search.\n",
    "\n",
    "#### 2. Detailed Exploration with GridSearchCV\n",
    "\n",
    "- **Refinement of Search:** Once `RandomizedSearchCV` identifies a promising region in the hyperparameter space, `GridSearchCV` can perform an exhaustive search within this region. This ensures that the best possible hyperparameters are found by evaluating all possible combinations within a smaller, more focused search space.\n",
    "- **Precision in Tuning:** `GridSearchCV` evaluates every combination of parameters in the defined grid, helping to find the optimal settings with a high level of confidence.\n",
    "\n",
    "### Combining Both Methods for Regularization\n",
    "\n",
    "- **Initial Broad Search:** Start with `RandomizedSearchCV` to broadly explore different hyperparameter settings. This helps in identifying promising regions of the hyperparameter space.\n",
    "- **Focused Fine-Tuning:** Use `GridSearchCV` to fine-tune the parameters within the promising regions identified by `RandomizedSearchCV`. This ensures that the final model parameters are as close to optimal as possible.\n",
    "- **Prevention of Overfitting:** Both methods incorporate cross-validation, which helps in assessing the generalizability of the model. By combining a broad search with a focused search, the model is less likely to overfit to a specific set of hyperparameters.\n",
    "\n",
    "### Efficiency and Effectiveness\n",
    "\n",
    "- **Time and Resource Management:** `RandomizedSearchCV` helps in quickly narrowing down the hyperparameter space, saving time and computational resources. `GridSearchCV` then ensures that the final hyperparameters are finely tuned.\n",
    "- **Increased Confidence:** Using both methods in tandem increases confidence that the selected hyperparameters will lead to a model with good generalization performance, as both broad and fine-grained searches are conducted.\n",
    "\n",
    "### Example Process\n",
    "\n",
    "1. **RandomizedSearchCV Step:**\n",
    "   - Define a wide range of hyperparameters and use `RandomizedSearchCV` to sample a fixed number of parameter settings.\n",
    "   - Identify the region with the best performing parameters.\n",
    "\n",
    "2. **GridSearchCV Step:**\n",
    "   - Define a smaller, focused range of hyperparameters around the best parameters found in the `RandomizedSearchCV` step.\n",
    "   - Use `GridSearchCV` to exhaustively search this smaller space to find the optimal hyperparameters.\n",
    "\n",
    "By using both methods, we ensure that the hyperparameter tuning process is both efficient and thorough, leading to a well-regularized and high-performing model.\n"
   ]
  },
  {
   "cell_type": "markdown",
   "id": "c37619b9",
   "metadata": {
    "execution": {
     "iopub.execute_input": "2024-06-29T23:13:19.584938Z",
     "iopub.status.busy": "2024-06-29T23:13:19.584560Z",
     "iopub.status.idle": "2024-06-29T23:13:19.589291Z",
     "shell.execute_reply": "2024-06-29T23:13:19.588217Z",
     "shell.execute_reply.started": "2024-06-29T23:13:19.584908Z"
    },
    "papermill": {
     "duration": 0.003431,
     "end_time": "2024-06-29T23:44:18.371666",
     "exception": false,
     "start_time": "2024-06-29T23:44:18.368235",
     "status": "completed"
    },
    "tags": []
   },
   "source": [
    "### Regularisation: Broad Exploration (RandomisedSearchCV)"
   ]
  },
  {
   "cell_type": "code",
   "execution_count": 1,
   "id": "533b1431",
   "metadata": {
    "execution": {
     "iopub.execute_input": "2024-06-29T23:44:18.380562Z",
     "iopub.status.busy": "2024-06-29T23:44:18.380192Z",
     "iopub.status.idle": "2024-06-29T23:47:47.399273Z",
     "shell.execute_reply": "2024-06-29T23:47:47.398466Z"
    },
    "papermill": {
     "duration": 209.026625,
     "end_time": "2024-06-29T23:47:47.401901",
     "exception": false,
     "start_time": "2024-06-29T23:44:18.375276",
     "status": "completed"
    },
    "tags": []
   },
   "outputs": [],
   "source": [
    "import numpy as np\n",
    "import pandas as pd\n",
    "from sklearn.preprocessing import StandardScaler, OneHotEncoder\n",
    "from sklearn.compose import ColumnTransformer\n",
    "from sklearn.model_selection import train_test_split\n",
    "from sklearn.ensemble import RandomForestClassifier\n",
    "from sklearn.metrics import classification_report\n",
    "from sklearn.preprocessing import LabelEncoder\n",
    "from imblearn.over_sampling import SMOTENC\n",
    "\n",
    "# Read data\n",
    "new_dataset_efmjieh1 = pd.read_csv(\"/kaggle/input/imputedfi/imputedfi.csv\")\n",
    "\n",
    "# Specify the variables to scale\n",
    "numerical_variables = [\"efalimo\", \"efalip\", \"efcapgn\", \"efccar\", \"efchtxb\", \n",
    "                       \"efcpqpp\", \"efearng\", \"efgi\", \"efgstxc\", \"efgtr\", \n",
    "                       \"efinva\", \"efoasgi\", \"efogovtr\", \"efothinc\", \"efpen\", \n",
    "                       \"efpenrec\", \"efphpr\", \"efpvtxc\", \"efrppc\", \"efrspwi\", \n",
    "                       \"efsapis\", \"efsemp\", \"efsize\", \"efuiben\", \"efwkrcp\", \n",
    "                       \"efagofmp\", \"efagyfmp\", \"hlev2g\"]\n",
    "\n",
    "# Specify categorical variables\n",
    "categorical_variables = [\"eftyp\", \"prov\", \"dwltyp\", \"dwtenr\", \"marstp\", \n",
    "                         \"efmjsi\", \"sex\", \"immst\", \"uszgap\"]\n",
    "\n",
    "new_dataset_efmjieh1.loc[new_dataset_efmjieh1['fschhldm'] >= 1, 'fschhldm'] = 1\n",
    "\n",
    "# Create the target and features\n",
    "y = new_dataset_efmjieh1['fschhldm']\n",
    "X = new_dataset_efmjieh1.drop(columns=['fschhldm'])\n",
    "\n",
    "# Define pipeline for scaling numerical features and one-hot encoding categorical features\n",
    "numeric_transformer = StandardScaler()\n",
    "categorical_transformer = OneHotEncoder(handle_unknown='ignore')\n",
    "\n",
    "# Preprocessor\n",
    "preprocessor = ColumnTransformer(\n",
    "    transformers=[\n",
    "        ('num', numeric_transformer, numerical_variables),\n",
    "        ('cat', categorical_transformer, categorical_variables)\n",
    "    ]\n",
    ")\n",
    "\n",
    "# Apply preprocessing\n",
    "X_preprocessed = preprocessor.fit_transform(X)\n",
    "\n",
    "# OneHotEncoder creates new columns for each category, get the indices of categorical features in the transformed data\n",
    "categorical_features_indices = preprocessor.transformers_[1][1].get_feature_names_out(categorical_variables)\n",
    "num_categorical_features = len(categorical_features_indices)\n",
    "num_numerical_features = len(numerical_variables)\n",
    "total_features = num_categorical_features + num_numerical_features\n",
    "\n",
    "# Create the mask\n",
    "categorical_features_mask = [True] * num_categorical_features + [False] * num_numerical_features\n",
    "\n",
    "# Apply SMOTENC\n",
    "smote_nc = SMOTENC(categorical_features=categorical_features_mask, random_state=42, sampling_strategy='minority')\n",
    "X_resampled, y_resampled = smote_nc.fit_resample(X_preprocessed, y)\n",
    "\n",
    "# Encode the labels\n",
    "le = LabelEncoder()\n",
    "y_resampled_ready = le.fit_transform(y_resampled)\n",
    "\n",
    "# Split the resampled data into training and testing sets\n",
    "X_train, X_test, y_train_ready, y_test_ready = train_test_split(X_resampled, y_resampled_ready, random_state=42, stratify=y_resampled_ready)\n",
    "\n",
    "# Continue with your RandomForestClassifier model and evaluation"
   ]
  },
  {
   "cell_type": "code",
   "execution_count": 2,
   "id": "76fd01c7",
   "metadata": {
    "execution": {
     "iopub.execute_input": "2024-06-29T23:47:47.410890Z",
     "iopub.status.busy": "2024-06-29T23:47:47.410623Z",
     "iopub.status.idle": "2024-06-30T00:02:09.199089Z",
     "shell.execute_reply": "2024-06-30T00:02:09.197350Z"
    },
    "papermill": {
     "duration": 861.795904,
     "end_time": "2024-06-30T00:02:09.201816",
     "exception": false,
     "start_time": "2024-06-29T23:47:47.405912",
     "status": "completed"
    },
    "tags": []
   },
   "outputs": [
    {
     "name": "stdout",
     "output_type": "stream",
     "text": [
      "Fitting 3 folds for each of 100 candidates, totalling 300 fits\n",
      "Best parameters: {'n_estimators': 200, 'min_samples_split': 2, 'min_samples_leaf': 1, 'max_depth': 110}\n",
      "              precision    recall  f1-score   support\n",
      "\n",
      "           0       1.00      1.00      1.00     26545\n",
      "           1       1.00      1.00      1.00     26546\n",
      "\n",
      "    accuracy                           1.00     53091\n",
      "   macro avg       1.00      1.00      1.00     53091\n",
      "weighted avg       1.00      1.00      1.00     53091\n",
      "\n",
      "              precision    recall  f1-score   support\n",
      "\n",
      "           0       0.88      0.92      0.90      8849\n",
      "           1       0.92      0.87      0.89      8848\n",
      "\n",
      "    accuracy                           0.90     17697\n",
      "   macro avg       0.90      0.90      0.90     17697\n",
      "weighted avg       0.90      0.90      0.90     17697\n",
      "\n"
     ]
    }
   ],
   "source": [
    "from sklearn.model_selection import train_test_split, GridSearchCV\n",
    "from sklearn.preprocessing import StandardScaler, OneHotEncoder, LabelEncoder\n",
    "from sklearn.compose import ColumnTransformer\n",
    "from imblearn.over_sampling import SMOTENC\n",
    "from sklearn.ensemble import RandomForestClassifier\n",
    "from sklearn.metrics import classification_report, confusion_matrix\n",
    "from sklearn.metrics import ConfusionMatrixDisplay\n",
    "import matplotlib.pyplot as plt\n",
    "from sklearn.model_selection import RandomizedSearchCV\n",
    "import numpy as np\n",
    "# Adjust the range of `n_estimators`\n",
    "n_estimators = [int(x) for x in np.linspace(start = 50, stop = 200, num = 6)]  # generates 6 values between 50 and 100\n",
    "\n",
    "# Continue with the rest of your code\n",
    "max_depth = [int(x) for x in np.linspace(10, 110, num = 11)]\n",
    "min_samples_split = [2, 5, 10]\n",
    "min_samples_leaf = [1, 2, 4]\n",
    "\n",
    "# Define the parameter grid\n",
    "random_grid = {'n_estimators': n_estimators,\n",
    "               'max_depth': max_depth,\n",
    "               'min_samples_split': min_samples_split,\n",
    "               'min_samples_leaf': min_samples_leaf}\n",
    "\n",
    "rf = RandomForestClassifier()\n",
    "\n",
    "# Random search of parameters using 3 fold cross validation\n",
    "random_search = RandomizedSearchCV(estimator = rf, param_distributions = random_grid, \n",
    "                                   n_iter = 100, cv = 3, verbose=2, random_state=42, n_jobs = -1)\n",
    "\n",
    "# Fit the model\n",
    "random_search.fit(X_train, y_train_ready)\n",
    "\n",
    "# Get the best parameters\n",
    "best_params = random_search.best_params_\n",
    "print(f\"Best parameters: {best_params}\")\n",
    "\n",
    "# Define and fit the classifier with the best parameters\n",
    "clf_r = RandomForestClassifier(n_estimators=best_params['n_estimators'], \n",
    "                             max_depth=best_params['max_depth'], \n",
    "                             min_samples_split=best_params['min_samples_split'],\n",
    "                             min_samples_leaf=best_params['min_samples_leaf'], \n",
    "                             random_state=42, \n",
    "                             n_jobs=-1)\n",
    "clf_r.fit(X_train, y_train_ready)\n",
    "\n",
    "# Make predictions\n",
    "y_hat_train = clf_r.predict(X_train)\n",
    "y_hat_test = clf_r.predict(X_test)\n",
    "\n",
    "# Print classification reports\n",
    "print(classification_report(y_train_ready, y_hat_train))\n",
    "print(classification_report(y_test_ready, y_hat_test))\n",
    "\n"
   ]
  },
  {
   "cell_type": "markdown",
   "id": "0243b0ff",
   "metadata": {
    "papermill": {
     "duration": 0.004467,
     "end_time": "2024-06-30T00:02:09.211047",
     "exception": false,
     "start_time": "2024-06-30T00:02:09.206580",
     "status": "completed"
    },
    "tags": []
   },
   "source": [
    "### Conclusion of RandomizedSearchCV Hyperparameter Tuning\n",
    "\n",
    "In the initial stage of our hyperparameter tuning process, we employed `RandomizedSearchCV` to broadly explore the hyperparameter space of our Random Forest model. This approach allowed us to efficiently sample a wide range of hyperparameter combinations and identify a promising region within the search space. \n",
    "\n",
    "Through this method, we determined that the best set of hyperparameters are as follows:\n",
    "- **Number of Estimators (`n_estimators`)**: 170\n",
    "- **Minimum Samples Required to Split an Internal Node (`min_samples_split`)**: 2\n",
    "- **Minimum Samples Required at Each Leaf Node (`min_samples_leaf`)**: 1\n",
    "- **Maximum Depth of the Tree (`max_depth`)**: 90\n",
    "\n",
    "These parameters were found to provide a good balance between model complexity and performance, reducing the risk of overfitting while maintaining high predictive accuracy. The broad exploration facilitated by `RandomizedSearchCV` was crucial in efficiently narrowing down the search space, setting the stage for more focused and precise tuning with `GridSearchCV`.\n",
    "\n",
    "In summary, the use of `RandomizedSearchCV` enabled us to identify an optimal region in the hyperparameter space quickly and effectively, laying a solid foundation for subsequent fine-tuning and ensuring that our Random Forest model is both robust and generalizable.\n"
   ]
  },
  {
   "cell_type": "code",
   "execution_count": 3,
   "id": "a6c1cf7a",
   "metadata": {
    "execution": {
     "iopub.execute_input": "2024-06-30T00:02:09.221467Z",
     "iopub.status.busy": "2024-06-30T00:02:09.221070Z",
     "iopub.status.idle": "2024-06-30T00:02:10.553971Z",
     "shell.execute_reply": "2024-06-30T00:02:10.552943Z"
    },
    "papermill": {
     "duration": 1.3412,
     "end_time": "2024-06-30T00:02:10.556668",
     "exception": false,
     "start_time": "2024-06-30T00:02:09.215468",
     "status": "completed"
    },
    "tags": []
   },
   "outputs": [
    {
     "name": "stdout",
     "output_type": "stream",
     "text": [
      "Training Accuracy: 100.00%\n",
      "Test Accuracy: 89.54%\n",
      "Training ROC AUC: 1.00\n",
      "Test ROC AUC: 0.95\n"
     ]
    }
   ],
   "source": [
    "from sklearn.metrics import accuracy_score, roc_auc_score\n",
    "# Compute training and test accuracy\n",
    "train_acc = accuracy_score(y_train_ready, y_hat_train)\n",
    "test_acc = accuracy_score(y_test_ready, y_hat_test)\n",
    "\n",
    "print(\"Training Accuracy: {:.2f}%\".format(train_acc * 100))\n",
    "print(\"Test Accuracy: {:.2f}%\".format(test_acc * 100))\n",
    "\n",
    "# Compute probabilities\n",
    "y_train_proba = clf_r.predict_proba(X_train)[:, 1]\n",
    "y_test_proba = clf_r.predict_proba(X_test)[:, 1]\n",
    "\n",
    "# Compute ROC AUC\n",
    "roc_auc_train = roc_auc_score(y_train_ready, y_train_proba)\n",
    "roc_auc_test = roc_auc_score(y_test_ready, y_test_proba)\n",
    "\n",
    "print(\"Training ROC AUC: {:.2f}\".format(roc_auc_train))\n",
    "print(\"Test ROC AUC: {:.2f}\".format(roc_auc_test))"
   ]
  },
  {
   "cell_type": "markdown",
   "id": "d172390e",
   "metadata": {
    "papermill": {
     "duration": 0.004424,
     "end_time": "2024-06-30T00:02:10.565880",
     "exception": false,
     "start_time": "2024-06-30T00:02:10.561456",
     "status": "completed"
    },
    "tags": []
   },
   "source": [
    "## Test of Another Set of Parameters"
   ]
  },
  {
   "cell_type": "code",
   "execution_count": 4,
   "id": "72d628ce",
   "metadata": {
    "execution": {
     "iopub.execute_input": "2024-06-30T00:02:10.575691Z",
     "iopub.status.busy": "2024-06-30T00:02:10.575364Z",
     "iopub.status.idle": "2024-06-30T00:02:18.079968Z",
     "shell.execute_reply": "2024-06-30T00:02:18.078973Z"
    },
    "papermill": {
     "duration": 7.511921,
     "end_time": "2024-06-30T00:02:18.082063",
     "exception": false,
     "start_time": "2024-06-30T00:02:10.570142",
     "status": "completed"
    },
    "tags": []
   },
   "outputs": [
    {
     "name": "stdout",
     "output_type": "stream",
     "text": [
      "Training classification report for new parameters:\n",
      "              precision    recall  f1-score   support\n",
      "\n",
      "           0       1.00      1.00      1.00     26545\n",
      "           1       1.00      1.00      1.00     26546\n",
      "\n",
      "    accuracy                           1.00     53091\n",
      "   macro avg       1.00      1.00      1.00     53091\n",
      "weighted avg       1.00      1.00      1.00     53091\n",
      "\n",
      "Test classification report for new parameters:\n",
      "              precision    recall  f1-score   support\n",
      "\n",
      "           0       0.88      0.92      0.90      8849\n",
      "           1       0.92      0.87      0.89      8848\n",
      "\n",
      "    accuracy                           0.89     17697\n",
      "   macro avg       0.90      0.89      0.89     17697\n",
      "weighted avg       0.90      0.89      0.89     17697\n",
      "\n"
     ]
    },
    {
     "data": {
      "image/png": "[encoded data removed]",
      "text/plain": [
       "<Figure size 640x480 with 2 Axes>"
      ]
     },
     "metadata": {},
     "output_type": "display_data"
    }
   ],
   "source": [
    "# Define a new set of parameters manually\n",
    "new_params = {\n",
    "    'n_estimators': 170,\n",
    "    'min_samples_split': 2,\n",
    "    'min_samples_leaf': 1,\n",
    "    'max_depth': 110,\n",
    "    'random_state': 42,\n",
    "    'n_jobs': -1\n",
    "}\n",
    "\n",
    "# Define and fit the classifier with the new set of parameters\n",
    "clf_new = RandomForestClassifier(**new_params)\n",
    "clf_new.fit(X_train, y_train_ready)\n",
    "\n",
    "# Make predictions\n",
    "y_hat_train_new = clf_new.predict(X_train)\n",
    "y_hat_test_new = clf_new.predict(X_test)\n",
    "\n",
    "# Print classification reports for the new parameters\n",
    "print(\"Training classification report for new parameters:\")\n",
    "print(classification_report(y_train_ready, y_hat_train_new))\n",
    "\n",
    "print(\"Test classification report for new parameters:\")\n",
    "print(classification_report(y_test_ready, y_hat_test_new))\n",
    "\n",
    "# Optional: Display the confusion matrix\n",
    "ConfusionMatrixDisplay.from_predictions(y_test_ready, y_hat_test_new)\n",
    "plt.show()\n"
   ]
  },
  {
   "cell_type": "code",
   "execution_count": 5,
   "id": "fc64ae7d",
   "metadata": {
    "execution": {
     "iopub.execute_input": "2024-06-30T00:02:18.093079Z",
     "iopub.status.busy": "2024-06-30T00:02:18.092745Z",
     "iopub.status.idle": "2024-06-30T00:02:45.546555Z",
     "shell.execute_reply": "2024-06-30T00:02:45.545219Z"
    },
    "papermill": {
     "duration": 27.462254,
     "end_time": "2024-06-30T00:02:45.549113",
     "exception": false,
     "start_time": "2024-06-30T00:02:18.086859",
     "status": "completed"
    },
    "tags": []
   },
   "outputs": [
    {
     "name": "stdout",
     "output_type": "stream",
     "text": [
      "Test accuracy for parameter set 1: 0.8948974402441092\n",
      "Test ROC AUC for parameter set 1: 0.9547719401891939\n",
      "Test accuracy for parameter set 2: 0.8948974402441092\n",
      "Test ROC AUC for parameter set 2: 0.9547719401891939\n",
      "Test accuracy for parameter set 1: 0.8948974402441092\n",
      "Test ROC AUC for parameter set 1: 0.9547719401891939\n",
      "Test accuracy for parameter set 2: 0.8948974402441092\n",
      "Test ROC AUC for parameter set 2: 0.9547719401891939\n"
     ]
    }
   ],
   "source": [
    "# Define the first set of parameters\n",
    "params_set_1 = {\n",
    "    'n_estimators': 170,\n",
    "    'min_samples_split': 2,\n",
    "    'min_samples_leaf': 1,\n",
    "    'max_depth': 90,\n",
    "    'random_state': 42,\n",
    "    'n_jobs': -1\n",
    "}\n",
    "\n",
    "# Define the second set of parameters\n",
    "params_set_2 = {\n",
    "    'n_estimators': 170,\n",
    "    'min_samples_split': 2,\n",
    "    'min_samples_leaf': 1,\n",
    "    'max_depth': 110,\n",
    "    'random_state': 42,\n",
    "    'n_jobs': -1\n",
    "}\n",
    "\n",
    "# Train and evaluate the first set of parameters\n",
    "clf_1 = RandomForestClassifier(**params_set_1)\n",
    "clf_1.fit(X_train, y_train_ready)\n",
    "y_pred_test_1 = clf_1.predict(X_test)\n",
    "y_pred_proba_test_1 = clf_1.predict_proba(X_test)[:, 1]\n",
    "\n",
    "accuracy_1 = accuracy_score(y_test_ready, y_pred_test_1)\n",
    "roc_auc_1 = roc_auc_score(y_test_ready, y_pred_proba_test_1)\n",
    "\n",
    "# Train and evaluate the second set of parameters\n",
    "clf_2 = RandomForestClassifier(**params_set_2)\n",
    "clf_2.fit(X_train, y_train_ready)\n",
    "y_pred_test_2 = clf_2.predict(X_test)\n",
    "y_pred_proba_test_2 = clf_2.predict_proba(X_test)[:, 1]\n",
    "\n",
    "accuracy_2 = accuracy_score(y_test_ready, y_pred_test_2)\n",
    "roc_auc_2 = roc_auc_score(y_test_ready, y_pred_proba_test_2)\n",
    "\n",
    "print(\"Test accuracy for parameter set 1:\", accuracy_1)\n",
    "print(\"Test ROC AUC for parameter set 1:\", roc_auc_1)\n",
    "\n",
    "print(\"Test accuracy for parameter set 2:\", accuracy_2)\n",
    "print(\"Test ROC AUC for parameter set 2:\", roc_auc_2)\n",
    "\n",
    "\n",
    "# Define the second set of parameters\n",
    "params_set_2 = {\n",
    "    'n_estimators': 170,\n",
    "    'min_samples_split': 2,\n",
    "    'min_samples_leaf': 1,\n",
    "    'max_depth': 110,\n",
    "    'random_state': 42,\n",
    "    'n_jobs': -1\n",
    "}\n",
    "\n",
    "# Train and evaluate the first set of parameters\n",
    "clf_1 = RandomForestClassifier(**params_set_1)\n",
    "clf_1.fit(X_train, y_train_ready)\n",
    "y_pred_test_1 = clf_1.predict(X_test)\n",
    "y_pred_proba_test_1 = clf_1.predict_proba(X_test)[:, 1]\n",
    "\n",
    "accuracy_1 = accuracy_score(y_test_ready, y_pred_test_1)\n",
    "roc_auc_1 = roc_auc_score(y_test_ready, y_pred_proba_test_1)\n",
    "\n",
    "# Train and evaluate the second set of parameters\n",
    "clf_2 = RandomForestClassifier(**params_set_2)\n",
    "clf_2.fit(X_train, y_train_ready)\n",
    "y_pred_test_2 = clf_2.predict(X_test)\n",
    "y_pred_proba_test_2 = clf_2.predict_proba(X_test)[:, 1]\n",
    "\n",
    "accuracy_2 = accuracy_score(y_test_ready, y_pred_test_2)\n",
    "roc_auc_2 = roc_auc_score(y_test_ready, y_pred_proba_test_2)\n",
    "\n",
    "print(\"Test accuracy for parameter set 1:\", accuracy_1)\n",
    "print(\"Test ROC AUC for parameter set 1:\", roc_auc_1)\n",
    "\n",
    "print(\"Test accuracy for parameter set 2:\", accuracy_2)\n",
    "print(\"Test ROC AUC for parameter set 2:\", roc_auc_2)\n"
   ]
  },
  {
   "cell_type": "markdown",
   "id": "9eab58ba",
   "metadata": {
    "papermill": {
     "duration": 0.005122,
     "end_time": "2024-06-30T00:02:45.559835",
     "exception": false,
     "start_time": "2024-06-30T00:02:45.554713",
     "status": "completed"
    },
    "tags": []
   },
   "source": [
    "### Transitioning to Grid Search: Choosing the Optimal Model\n",
    "\n",
    "Based on our Randomized Search results, we identified two sets of optimal parameters for our Random Forest model:\n",
    "1. **Model 1**: `{'n_estimators': 170, 'min_samples_split': 2, 'min_samples_leaf': 1, 'max_depth': 90}`\n",
    "2. **Model 2**: `{'n_estimators': 170, 'min_samples_split': 2, 'min_samples_leaf': 1, 'max_depth': 110}`\n",
    "\n",
    "Both models exhibited identical performance on our test set, with an accuracy of 0.89 and a ROC AUC of 0.95. To determine the best model for the next step of hyperparameter tuning with Grid Search, we considered several factors:\n",
    "\n",
    "- **Model with Maximum Depth of 90**:\n",
    "  - Pros:\n",
    "    - Lower risk of overfitting.\n",
    "    - Faster training and prediction times.\n",
    "    - Easier to interpret and explain.\n",
    "    - Generally more robust with limited data.\n",
    "  - Cons:\n",
    "    - May slightly underfit complex patterns in the data.\n",
    "\n",
    "- **Model with Maximum Depth of 110**:\n",
    "  - Pros:\n",
    "    - Can capture more complex patterns.\n",
    "    - Potential for improved performance with large datasets.\n",
    "  - Cons:\n",
    "    - Higher risk of overfitting.\n",
    "    - Increased computational resources required.\n",
    "    - More difficult to interpret.\n",
    "\n",
    "#### Recommendation:\n",
    "Given the identical performance of both models and the desire to minimize overfitting, we recommend proceeding with the model with a maximum depth of 90 for Grid Search. This choice provides a balance between robustness and performance, ensuring a more generalizable model for further refinement.\n",
    "\n",
    "### Next Steps:\n",
    "We will transition to Grid Search using the model with the following parameters:\n",
    "`{'n_estimators': 170, 'min_samples_split': 2, 'min_samples_leaf': 1, 'max_depth': 90, 'random_state': 42, 'n_jobs': -1}`\n",
    "\n",
    "This approach aims to fine-tune our model further and achieve optimal performance while maintaining generalizability.\n"
   ]
  }
 ],
 "metadata": {
  "kaggle": {
   "accelerator": "nvidiaTeslaT4",
   "dataSources": [
    {
     "datasetId": 5306281,
     "sourceId": 8820314,
     "sourceType": "datasetVersion"
    }
   ],
   "dockerImageVersionId": 30733,
   "isGpuEnabled": true,
   "isInternetEnabled": true,
   "language": "python",
   "sourceType": "notebook"
  },
  "kernelspec": {
   "display_name": "Python 3",
   "language": "python",
   "name": "python3"
  },
  "language_info": {
   "codemirror_mode": {
    "name": "ipython",
    "version": 3
   },
   "file_extension": ".py",
   "mimetype": "text/x-python",
   "name": "python",
   "nbconvert_exporter": "python",
   "pygments_lexer": "ipython3",
   "version": "3.10.13"
  },
  "papermill": {
   "default_parameters": {},
   "duration": 1112.978634,
   "end_time": "2024-06-30T00:02:48.186035",
   "environment_variables": {},
   "exception": null,
   "input_path": "__notebook__.ipynb",
   "output_path": "__notebook__.ipynb",
   "parameters": {},
   "start_time": "2024-06-29T23:44:15.207401",
   "version": "2.5.0"
  }
 },
 "nbformat": 4,
 "nbformat_minor": 5
}

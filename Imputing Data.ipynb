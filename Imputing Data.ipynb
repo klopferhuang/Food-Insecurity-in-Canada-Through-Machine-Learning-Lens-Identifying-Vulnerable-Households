{
 "cells": [
  {
   "cell_type": "markdown",
   "id": "edd6ca26-c12f-4e32-a0cf-710478587ddc",
   "metadata": {},
   "source": [
    "## Impute Missing Data\n",
    "\n",
    "The loading data step is the same as in explanatory analysis."
   ]
  },
  {
   "cell_type": "code",
   "execution_count": 1,
   "id": "50db95f4-6a51-41f4-8349-fb67ad23f570",
   "metadata": {},
   "outputs": [],
   "source": [
    "import numpy as np\n",
    "import pandas as pd\n",
    "from sklearn.preprocessing import StandardScaler, OneHotEncoder\n",
    "from sklearn.compose import ColumnTransformer\n",
    "from sklearn.model_selection import train_test_split\n",
    "from sklearn.ensemble import RandomForestClassifier\n",
    "from sklearn.metrics import classification_report\n",
    "from sklearn.preprocessing import LabelEncoder\n",
    "from imblearn.over_sampling import SMOTENC\n",
    "import seaborn as sns\n",
    "import matplotlib.pyplot as plt\n",
    "from sklearn.experimental import enable_iterative_imputer\n",
    "from sklearn.impute import IterativeImputer\n",
    "import miceforest as mf\n",
    "\n",
    "# Read data\n",
    "cis2018 = pd.read_csv(f\"/Volumes/K的1TB/ECO480/Term_Paper/Data/2018sub-data.txt\")\n",
    "\n",
    "# List of variables to keep\n",
    "variables_to_keep = [\"efmjie\", \"fschhldm\", \"efagofmp\", \"efagyfmp\", \"efalimo\", \"efalip\", \"efcapgn\", \"efccar\", \"efchtxb\", \n",
    "\"efcpqpp\", \"efearng\", \"efgi\", \"efgstxc\", \"efgtr\", \"efinva\", \"efmjsi\", \"efoasgi\", \"efogovtr\", \"efothinc\", \"efpen\", \"efpenrec\", \"efphpr\", \"efpvtxc\", \"efrppc\", \"efrspwi\", \"efsapis\", \"efsemp\", \n",
    "\"efsize\", \"efuiben\", \"efwkrcp\", \"prov\", \"dwltyp\", \"dwtenr\", \"marstp\",\"eftyp\",\"hlev2g\",\"sex\",\"immst\",\"uszgap\"]\n",
    "\n",
    "# Keep observations where efmjieh equals 1\n",
    "new_dataset_efmjieh1 = cis2018[variables_to_keep]\n",
    "new_dataset_efmjieh1 = new_dataset_efmjieh1[new_dataset_efmjieh1['efmjie'] == 1]\n",
    "\n",
    "# Remove column 'efmjie'\n",
    "new_dataset_efmjieh1 = new_dataset_efmjieh1.drop(columns=['efmjie'])\n",
    "\n",
    "# Set certain values to NaN\n",
    "new_dataset_efmjieh1.loc[new_dataset_efmjieh1['dwltyp'] >= 6, 'dwltyp'] = np.nan\n",
    "new_dataset_efmjieh1.loc[new_dataset_efmjieh1['marstp'] >= 6, 'marstp'] = np.nan\n",
    "new_dataset_efmjieh1.loc[new_dataset_efmjieh1['eftyp'] >= 96, 'eftyp'] = np.nan\n",
    "new_dataset_efmjieh1.loc[new_dataset_efmjieh1['hlev2g'] >= 6, 'hlev2g'] = np.nan\n",
    "df_imputed = new_dataset_efmjieh1.copy()"
   ]
  },
  {
   "cell_type": "markdown",
   "id": "107e08b7-a38a-4676-b7e5-93ed00a39e10",
   "metadata": {},
   "source": [
    "In our dataset, four variables were identified as having missing values, characterized as either categorical or ordinal (`dwltyp`, `marstp`, `eftyp`, and `hlev2g`). The distribution of these variables across different levels of food insecurity was uneven. Here we provide an example of the variable ‘Type of Dwelling’. Furthermore, given the presence of both categorical and ordinal variables (the latter being treatable as numerical variables in discrete quantities), we employed the Memory Efficient Multiple Imputation by Chained Equations (MICE) algorithm to impute the missing values. "
   ]
  },
  {
   "cell_type": "markdown",
   "id": "beb3b789-431c-40e5-88b6-0cb0f491282d",
   "metadata": {},
   "source": [
    "### Variables with Missing Values\n",
    "\n",
    "| Variable | Description | Variable Type | Count | Proportion |\n",
    "| --- | --- | --- | --- | --- |\n",
    "| dwltyp | Type of dwelling | Categorical | 2277 | 0.053656 |\n",
    "| marstp | Marital status | Categorical | 1859 | 0.043806 |\n",
    "| eftyp | Economic family type | Categorical | 859 | 0.020242 |\n",
    "| hlev2g | Highest level of education of person | Ordinal | 1824 | 0.042981 |\n"
   ]
  },
  {
   "cell_type": "code",
   "execution_count": 2,
   "id": "7188079f-205d-4ba3-9344-a42cd21bf3b1",
   "metadata": {},
   "outputs": [
    {
     "data": {
      "text/plain": [
       "1.0    0.618917\n",
       "3.0    0.197681\n",
       "2.0    0.113957\n",
       "NaN    0.053656\n",
       "4.0    0.015788\n",
       "Name: dwltyp, dtype: float64"
      ]
     },
     "execution_count": 2,
     "metadata": {},
     "output_type": "execute_result"
    }
   ],
   "source": [
    "new_dataset_efmjieh1['dwltyp'].value_counts(normalize=True, dropna=False)"
   ]
  },
  {
   "cell_type": "code",
   "execution_count": 3,
   "id": "acadaab4-37f8-454c-b3d7-920bf800f4db",
   "metadata": {},
   "outputs": [
    {
     "data": {
      "text/plain": [
       "<Figure size 1000x600 with 0 Axes>"
      ]
     },
     "metadata": {},
     "output_type": "display_data"
    },
    {
     "data": {
      "image/png": "[encoded data removed]",
      "text/plain": [
       "<Figure size 640x480 with 1 Axes>"
      ]
     },
     "metadata": {},
     "output_type": "display_data"
    }
   ],
   "source": [
    "# Replace NaN values in 'dwltyp' column with a string label to include them in the plot\n",
    "new_dataset_efmjieh1['dwltyp'] = new_dataset_efmjieh1['dwltyp'].fillna('NaN')\n",
    "\n",
    "# Group the data by 'fschhldm' and 'dwltyp' and count the occurrences\n",
    "grouped_data = new_dataset_efmjieh1.groupby(['fschhldm', 'dwltyp']).size().unstack(fill_value=0)\n",
    "\n",
    "# Normalize the counts to get proportions\n",
    "grouped_data = grouped_data.div(grouped_data.sum(axis=1), axis=0)\n",
    "\n",
    "# Plot the stacked bar chart\n",
    "plt.figure(figsize=(10, 6))\n",
    "sns.set_palette(\"viridis\")\n",
    "grouped_data.plot(kind='bar', stacked=True)\n",
    "plt.xlabel('fschhldm')\n",
    "plt.ylabel('Proportion')\n",
    "plt.title('Distribution of dwltyp among fschhldm')\n",
    "plt.legend(title='dwltyp', bbox_to_anchor=(1, 1))\n",
    "plt.show()"
   ]
  },
  {
   "cell_type": "code",
   "execution_count": 4,
   "id": "b6c99559-56fc-4966-99b7-52987cf83f18",
   "metadata": {},
   "outputs": [
    {
     "name": "stdout",
     "output_type": "stream",
     "text": [
      "dwltyp         1.0       2.0       3.0       4.0       NaN\n",
      "fschhldm                                                  \n",
      "0         0.651466  0.108267  0.179550  0.014437  0.046279\n",
      "1         0.521739  0.130935  0.254873  0.019990  0.072464\n",
      "2         0.465222  0.151084  0.270463  0.018764  0.094468\n",
      "3         0.371604  0.140953  0.352640  0.031266  0.103537\n"
     ]
    }
   ],
   "source": [
    "# Replace NaN values in 'dwltyp' column with a string label to include them in the calculation\n",
    "new_dataset_efmjieh1['dwltyp'] = new_dataset_efmjieh1['dwltyp'].fillna('NaN')\n",
    "\n",
    "# Calculate the proportion of each dwltyp in each fschhldm\n",
    "proportions = new_dataset_efmjieh1.groupby(['fschhldm', 'dwltyp']).size() / new_dataset_efmjieh1.groupby('fschhldm')['dwltyp'].size()\n",
    "\n",
    "# Reset the index and pivot the data to create a table\n",
    "proportions = proportions.reset_index().pivot(index='fschhldm', columns='dwltyp', values=0).fillna(0)\n",
    "\n",
    "# Display the proportions\n",
    "print(proportions)\n"
   ]
  },
  {
   "cell_type": "markdown",
   "id": "1bd07fc9-978b-42f5-8696-466e5492d31c",
   "metadata": {},
   "source": [
    "### Distribution of dwelling among each level of food insecurity\n",
    "\n",
    "| fschhldm  | dwltyp 1.0 | dwltyp 2.0 | dwltyp 3.0 | dwltyp 4.0 | dwltyp NaN |\n",
    "| --------- | ---------- | ---------- | ---------- | ---------- | ---------- |\n",
    "| 0         | 0.651466   | 0.108267   | 0.179550   | 0.014437   | 0.046279   |\n",
    "| 1         | 0.521739   | 0.130935   | 0.254873   | 0.019990   | 0.072464   |\n",
    "| 2         | 0.465222   | 0.151084   | 0.270463   | 0.018764   | 0.094468   |\n",
    "| 3         | 0.371604   | 0.140953   | 0.352640   | 0.031266   | 0.103537   |"
   ]
  },
  {
   "cell_type": "code",
   "execution_count": 5,
   "id": "83f1a30b-a3d9-4817-8298-c0f1b33f361b",
   "metadata": {},
   "outputs": [],
   "source": [
    "# Specify the variables to scale\n",
    "numerical_variables = [\"efalimo\", \"efalip\", \"efcapgn\", \"efccar\", \"efchtxb\", \n",
    "\"efcpqpp\", \"efearng\", \"efgi\", \"efgstxc\", \"efgtr\", \"efinva\", \"efoasgi\", \"efogovtr\", \"efothinc\", \"efpen\", \"efpenrec\", \"efphpr\", \"efpvtxc\", \"efrppc\", \"efrspwi\", \"efsapis\", \"efsemp\", \n",
    "\"efsize\", \"efuiben\", \"efwkrcp\"]\n",
    "\n",
    "# Specify categorical variables\n",
    "categorical_variables = [\"eftyp\", \"prov\", \"dwltyp\", \"dwtenr\", \"marstp\", \"efmjsi\",\"sex\",\"immst\",\"uszgap\"]\n",
    "ordinal_variables = [\"efagofmp\", \"efagyfmp\", \"hlev2g\"]\n",
    "new_dataset_efmjieh1.loc[new_dataset_efmjieh1['fschhldm'] >= 1, 'fschhldm'] = 1"
   ]
  },
  {
   "cell_type": "code",
   "execution_count": 6,
   "id": "ae6d6129-19eb-4685-aeca-49b43c35b7c8",
   "metadata": {},
   "outputs": [
    {
     "name": "stdout",
     "output_type": "stream",
     "text": [
      "object\n"
     ]
    }
   ],
   "source": [
    "print(new_dataset_efmjieh1['dwltyp'].dtype)"
   ]
  },
  {
   "cell_type": "code",
   "execution_count": 7,
   "id": "8e24a2e1-5923-4ec5-ac84-af7e9f486a7f",
   "metadata": {},
   "outputs": [],
   "source": [
    "# Convert categorical variables to 'category' type\n",
    "for var in categorical_variables:\n",
    "    df_imputed[var] = df_imputed[var].astype('category')\n",
    "\n",
    "# Consider ordinal variables as numerical for the MICE algorithm, hence no need to convert\n",
    "\n",
    "# Create kernel.\n",
    "kds = mf.ImputationKernel(\n",
    "  df_imputed,   # input dataframe\n",
    "  save_all_iterations=True,\n",
    "  random_state=42\n",
    ")\n",
    "\n",
    "# Run the MICE algorithm for some number of iterations, let's say 3\n",
    "kds.mice(3)\n",
    "\n",
    "# Return the completed data\n",
    "completed_data = kds.complete_data()\n",
    "\n",
    "# Replace original dataframe with the imputed dataframe\n",
    "df_imputed = completed_data"
   ]
  },
  {
   "cell_type": "code",
   "execution_count": 8,
   "id": "96cba31f-a11f-49ff-9183-d5e4c71a9f61",
   "metadata": {},
   "outputs": [
    {
     "name": "stdout",
     "output_type": "stream",
     "text": [
      "fschhldm    0\n",
      "efagofmp    0\n",
      "efagyfmp    0\n",
      "efalimo     0\n",
      "efalip      0\n",
      "efcapgn     0\n",
      "efccar      0\n",
      "efchtxb     0\n",
      "efcpqpp     0\n",
      "efearng     0\n",
      "efgi        0\n",
      "efgstxc     0\n",
      "efgtr       0\n",
      "efinva      0\n",
      "efmjsi      0\n",
      "efoasgi     0\n",
      "efogovtr    0\n",
      "efothinc    0\n",
      "efpen       0\n",
      "efpenrec    0\n",
      "efphpr      0\n",
      "efpvtxc     0\n",
      "efrppc      0\n",
      "efrspwi     0\n",
      "efsapis     0\n",
      "efsemp      0\n",
      "efsize      0\n",
      "efuiben     0\n",
      "efwkrcp     0\n",
      "prov        0\n",
      "dwltyp      0\n",
      "dwtenr      0\n",
      "marstp      0\n",
      "eftyp       0\n",
      "hlev2g      0\n",
      "sex         0\n",
      "immst       0\n",
      "uszgap      0\n",
      "dtype: int64\n"
     ]
    }
   ],
   "source": [
    "missing_values_count = df_imputed.isnull().sum()\n",
    "print(missing_values_count)"
   ]
  },
  {
   "cell_type": "code",
   "execution_count": 9,
   "id": "e63bb9d0-b40a-4105-a6fe-f5cf676b40f7",
   "metadata": {},
   "outputs": [
    {
     "name": "stdout",
     "output_type": "stream",
     "text": [
      "| Variable | Counts |\n",
      "|:---------|-------:|\n",
      "| eftyp | 22.0 | 8005\n",
      "21.0 | 6975\n",
      "24.0 | 5372\n",
      "13.0 | 5088\n",
      "14.0 | 4042\n",
      "12.0 | 3566\n",
      "23.0 | 2195\n",
      "11.0 | 1800\n",
      "31.0 | 1646\n",
      "43.0 | 1129\n",
      "44.0 | 1077\n",
      "41.0 | 562\n",
      "42.0 | 513\n",
      "32.0 | 467 |\n",
      "| prov | 35 | 11125\n",
      "24 | 8059\n",
      "59 | 4874\n",
      "48 | 4335\n",
      "46 | 3321\n",
      "47 | 3083\n",
      "12 | 2466\n",
      "13 | 2316\n",
      "10 | 1651\n",
      "11 | 1207 |\n",
      "| dwltyp | 1.0 | 27555\n",
      "3.0 | 8949\n",
      "2.0 | 5196\n",
      "4.0 | 737 |\n",
      "| dwtenr | 1 | 30129\n",
      "2 | 12308 |\n",
      "| marstp | 1.0 | 19180\n",
      "4.0 | 9622\n",
      "3.0 | 9159\n",
      "2.0 | 4476 |\n",
      "| efmjsi | 2 | 24885\n",
      "4 | 9850\n",
      "6 | 4730\n",
      "3 | 1496\n",
      "5 | 1158\n",
      "7 | 318 |\n",
      "| sex | 1 | 24562\n",
      "2 | 17875 |\n",
      "| immst | 2 | 35765\n",
      "1 | 5961\n",
      "9 | 711 |\n",
      "| uszgap | 6 | 12355\n",
      "9 | 11682\n",
      "1 | 6299\n",
      "2 | 3381\n",
      "5 | 2404\n",
      "3 | 2399\n",
      "4 | 2295\n",
      "7 | 873\n",
      "8 | 749 |\n",
      "| efagofmp | 15 | 9297\n",
      "13 | 4495\n",
      "12 | 4438\n",
      "14 | 4195\n",
      "11 | 3709\n",
      "10 | 3367\n",
      "8 | 3313\n",
      "9 | 3168\n",
      "7 | 2952\n",
      "6 | 2247\n",
      "5 | 1237\n",
      "4 | 19 |\n",
      "| efagyfmp | 15 | 6578\n",
      "1 | 4475\n",
      "13 | 3809\n",
      "5 | 3603\n",
      "12 | 3399\n",
      "14 | 3366\n",
      "3 | 2982\n",
      "6 | 2705\n",
      "11 | 2435\n",
      "2 | 2191\n",
      "7 | 1914\n",
      "10 | 1614\n",
      "8 | 1262\n",
      "9 | 1183\n",
      "4 | 921 |\n",
      "| hlev2g | 3.0 | 14736\n",
      "4.0 | 12043\n",
      "2.0 | 9889\n",
      "1.0 | 5769 |\n",
      "\n"
     ]
    }
   ],
   "source": [
    "ordinal_categorical_cols = ['eftyp', 'prov', 'dwltyp', 'dwtenr', 'marstp', 'efmjsi', 'sex', 'immst',\n",
    "                    'uszgap', 'efagofmp', 'efagyfmp', 'hlev2g']\n",
    "\n",
    "# Create a Markdown table header\n",
    "markdown_table = \"| Variable | Counts |\\n|:---------|-------:|\\n\"\n",
    "\n",
    "for col in ordinal_categorical_cols:\n",
    "    # Get the value counts for the column\n",
    "    value_counts = df_imputed[col].value_counts(dropna=False)\n",
    "    \n",
    "    # Convert value counts to Markdown format\n",
    "    counts_table = \"\\n\".join([f\"{index} | {value}\" for index, value in value_counts.items()])\n",
    "    \n",
    "    # Append the Markdown table row for the current variable\n",
    "    markdown_table += f\"| {col} | {counts_table} |\\n\"\n",
    "\n",
    "# Print the Markdown table\n",
    "print(markdown_table)"
   ]
  },
  {
   "cell_type": "markdown",
   "id": "ebd28368-0dd8-4522-a6c2-eb9aa170722d",
   "metadata": {},
   "source": [
    "| Variable | Index | Label                                                      | Counts |\n",
    "|:---------|:-----:|:-----------------------------------------------------------|-------:|\n",
    "| eftyp    | 22  | Non-elderly couple with children                           |   8005 |\n",
    "| eftyp    | 21  | Non-elderly couple with no children or relatives           |   6975 |\n",
    "| eftyp    | 24  | Elderly couple with no children or other relatives         |   5372 |\n",
    "| eftyp    | 13  | Non-elderly male not in an economic family                 |   5088 |\n",
    "| eftyp    | 14  | Non-elderly female not in an economic family               |   4042 |\n",
    "| eftyp    | 12  | Elderly female not in an economic family                   |   3566 |\n",
    "| eftyp    | 23  | Non-elderly couple with other relatives, no children       |   2195 |\n",
    "| eftyp    | 11  | Elderly male not in an economic family                     |   1800 |\n",
    "| eftyp    | 31  | Female lone-parent family                                  |   1646 |\n",
    "| eftyp    | 43  | Other family type - non-elderly male                       |   1129 |\n",
    "| eftyp    | 44  | Other family type - non-elderly female                     |   1077 |\n",
    "| eftyp    | 41  | Other family type - elderly male                           |    562 |\n",
    "| eftyp    | 42  | Other family type - elderly female                         |    513 |\n",
    "| eftyp    | 32  | Male lone-parent family                                    |    467 |\n",
    "| prov     | 35    | Newfoundland and Labrador                                 |  11125 |\n",
    "| prov     | 24    | Quebec                                                    |   8059 |\n",
    "| prov     | 59    | British Columbia                                          |   4874 |\n",
    "| prov     | 48    | Alberta                                                   |   4335 |\n",
    "| prov     | 46    | Manitoba                                                  |   3321 |\n",
    "| prov     | 47    | Saskatchewan                                              |   3083 |\n",
    "| prov     | 12    | Nova Scotia                                               |   2466 |\n",
    "| prov     | 13    | New Brunswick                                             |   2316 |\n",
    "| prov     | 10    | Newfoundland and Labrador                                 |   1651 |\n",
    "| prov     | 11    | Prince Edward Island                                      |   1207 |\n",
    "| dwltyp   | 1   | Single detached house                                     |  27555 |\n",
    "| dwltyp   | 3   | Apartment                                                 |   8949 |\n",
    "| dwltyp   | 2   | Double, row or terrace, duplex                            |   5196 |\n",
    "| dwltyp   | 4   | Other                                                     |    737 |\n",
    "| dwtenr   | 1     | Owned by a member of the household                        |  30129 |\n",
    "| dwtenr   | 2     | Not owned by a member of the household                    |  12308 |\n",
    "| marstp   | 1  | Married                                                   |  19180 |\n",
    "| marstp   | 4   | Single (never married)                                    |   9622 |\n",
    "| marstp   | 3  | Separated, divorced or widowed                            |   9159 |\n",
    "| marstp   | 2  | Common-law                                                |   4476 |\n",
    "| efmjsi   | 1     | No income                                                 |      0 |\n",
    "| efmjsi   | 2     | Wages and salaries                                        |  24885 |\n",
    "| efmjsi   | 4     | Government transfers                                      |   9850 |\n",
    "| efmjsi   | 6     | Retirement pensions                                       |   4730 |\n",
    "| efmjsi   | 3     | Self-employment income                                    |   1496 |\n",
    "| efmjsi   | 5     | Investment income                                         |   1158 |\n",
    "| efmjsi   | 7     | Other income                                              |    318 |\n",
    "| sex      | 1     | Male                                                      |  24562 |\n",
    "| sex      | 2     | Female                                                    |  17875 |\n",
    "| immst    | 2     | No                                                        |  35765 |\n",
    "| immst    | 1     | Yes                                                       |   5961 |\n",
    "| immst    | 9     | Unknown                                                   |    711 |\n",
    "| uszgap   | 6     | Rural area outside CMAs or CAs                            |  12355 |\n",
    "| uszgap   | 9     | CMA, population 500,000 and over                          |  11682 |\n",
    "| uszgap   | 1     | Rural area or CA, population under 100,000                |   6299 |\n",
    "| uszgap   | 2     | CA, population under 30,000                               |   3381 |\n",
    "| uszgap   | 5     | CA, population under 100,000                              |   2404 |\n",
    "| uszgap   | 3     | CA, population 30,000 to 99,999                          |   2399 |\n",
    "| uszgap   | 4     | CA, pop. under 100,000 or CMA, pop. 100,000 to 499,999    |   2295 |\n",
    "| uszgap   | 7     | CMA, population 100,000 to 499,999                        |    873 |\n",
    "| uszgap   | 8     | CA, pop. 30,000 to 99,999 or CMA, pop. 100,000 to 499,999 |    749 |\n",
    "| efagofmp | 15    | 70 years and over                                         |   9297 |\n",
    "| efagofmp | 13    | 60 to 64 years                                            |   4495 |\n",
    "| efagofmp | 12    | 55 to 59 years                                            |   4438 |\n",
    "| efagofmp | 14    | 65 to 69 years                                            |   4195 |\n",
    "| efagofmp | 11    | 50 to 54 years                                            |   3709 |\n",
    "| efagofmp | 10    | 45 to 49 years                                            |   3367 |\n",
    "| efagofmp | 8     | 35 to 39 years                                            |   3313 |\n",
    "| efagofmp | 9     | 40 to 44 years                                            |   3168 |\n",
    "| efagofmp | 7     | 30 to 34 years                                            |   2952 |\n",
    "| efagofmp | 6     | 25 to 29 years                                            |   2247 |\n",
    "| efagofmp | 5     | 18 to 24 years                                            |   1237 |\n",
    "| efagofmp | 4     | Unknown                                                   |     19 |\n",
    "| efagyfmp | 15    | 70 years and over                                         |   6578 |\n",
    "| efagyfmp | 1     | 0 to 5 years                                              |   4475 |\n",
    "| efagyfmp | 13    | 60 to 64 years                                            |   3809 |\n",
    "| efagyfmp | 5     | 18 to 24 years                                            |   3603 |\n",
    "| efagyfmp | 12    | 55 to 59 years                                            |   3399 |\n",
    "| efagyfmp | 14    | 65 to 69 years                                            |   3366 |\n",
    "| efagyfmp | 3     | 10 to 15 years                                            |   2982 |\n",
    "| efagyfmp | 6     | 25 to 29 years                                            |   2705 |\n",
    "| efagyfmp | 11    | 50 to 54 years                                            |   2435 |\n",
    "| efagyfmp | 2     | 6 to 9 years                                              |   2191 |\n",
    "| efagyfmp | 7     | 30 to 34 years                                            |   1914 |\n",
    "| efagyfmp | 10    | 45 to 49 years                                            |   1614 |\n",
    "| efagyfmp | 8     | 35 to 39 years                                            |   1262 |\n",
    "| efagyfmp | 9     | 40 to 44 years                                            |   1183 |\n",
    "| efagyfmp | 4     | 16 to 17 years                                            |    921 |\n",
    "| hlev2g   | 3   | Non-university postsecondary certificate or diploma       |   14736 |\n",
    "| hlev2g   | 4   | University degree or certificate                          |   12043 |\n",
    "| hlev2g   | 2   | Graduated high school or partial postsecondary education |   9889 |\n",
    "| hlev2g   | 1   | Less than high school graduation                          |   5769 |\n"
   ]
  }
 ],
 "metadata": {
  "kernelspec": {
   "display_name": "Python 3 (ipykernel)",
   "language": "python",
   "name": "python3"
  },
  "language_info": {
   "codemirror_mode": {
    "name": "ipython",
    "version": 3
   },
   "file_extension": ".py",
   "mimetype": "text/x-python",
   "name": "python",
   "nbconvert_exporter": "python",
   "pygments_lexer": "ipython3",
   "version": "3.10.9"
  }
 },
 "nbformat": 4,
 "nbformat_minor": 5
}
